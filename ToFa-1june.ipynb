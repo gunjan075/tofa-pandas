{
 "cells": [
  {
   "cell_type": "code",
   "execution_count": 395,
   "metadata": {},
   "outputs": [],
   "source": [
    "import os as os\n",
    "import pandas as pd\n",
    "import shutil as st\n",
    "from bs4 import BeautifulSoup\n",
    "import csv as csv\n",
    "from pandas import ExcelWriter as xlwriter\n",
    "path=\"C:\\\\Users\\\\user\\\\Downloads\\\\tofa\""
   ]
  },
  {
   "cell_type": "code",
   "execution_count": 214,
   "metadata": {},
   "outputs": [],
   "source": [
    "os.chdir(path)"
   ]
  },
  {
   "cell_type": "code",
   "execution_count": 220,
   "metadata": {},
   "outputs": [
    {
     "data": {
      "text/plain": [
       "['myfile_0.csv',\n",
       " 'output.csv',\n",
       " 'pankaj-Apr 2019.xls',\n",
       " 'rahul-Apr 2019.xls',\n",
       " 'sanjay-Apr 2019.xls',\n",
       " 'shiva-Apr 2019.xls',\n",
       " 'working_director_csv']"
      ]
     },
     "execution_count": 220,
     "metadata": {},
     "output_type": "execute_result"
    }
   ],
   "source": [
    "files=os.listdir()\n",
    "files"
   ]
  },
  {
   "cell_type": "code",
   "execution_count": 221,
   "metadata": {},
   "outputs": [
    {
     "data": {
      "text/plain": [
       "['pankaj-Apr 2019.xls',\n",
       " 'rahul-Apr 2019.xls',\n",
       " 'sanjay-Apr 2019.xls',\n",
       " 'shiva-Apr 2019.xls']"
      ]
     },
     "execution_count": 221,
     "metadata": {},
     "output_type": "execute_result"
    }
   ],
   "source": [
    "files_xls=[f for f in files if f[-3:] == 'xls']\n",
    "files_xls"
   ]
  },
  {
   "cell_type": "code",
   "execution_count": 397,
   "metadata": {},
   "outputs": [],
   "source": [
    "month=[i[i.find(\"-\")+1:i.find(\"-\")+4] for i in files_xls][0]"
   ]
  },
  {
   "cell_type": "code",
   "execution_count": 219,
   "metadata": {},
   "outputs": [
    {
     "data": {
      "text/plain": [
       "['pankaj', 'rahul', 'sanjay', 'shiva']"
      ]
     },
     "execution_count": 219,
     "metadata": {},
     "output_type": "execute_result"
    }
   ],
   "source": [
    "names=[i[:i.find(\"-\")] for i in files_xls]\n",
    "names"
   ]
  },
  {
   "cell_type": "code",
   "execution_count": 269,
   "metadata": {},
   "outputs": [],
   "source": [
    "columnames=[\"Date\",\"Effort_Data\",\"Tofa_Data\",\"Swipe_In\",\"Swipe_Out\",\"Total\"]"
   ]
  },
  {
   "cell_type": "code",
   "execution_count": null,
   "metadata": {},
   "outputs": [],
   "source": [
    "dfcollection={}"
   ]
  },
  {
   "cell_type": "code",
   "execution_count": 361,
   "metadata": {},
   "outputs": [],
   "source": [
    "averagetofadict={}\n",
    "\n",
    "for i in names:\n",
    "    for j in files_xls:\n",
    "        dfcollection[i]=pd.read_html(j)\n",
    "        ddff=dfcollection[i][0]\n",
    "        ddff.columns.droplevel()\n",
    "        ddff.columns=columnames\n",
    "        dfcollection[i][0]=ddff\n",
    "        \n",
    "        q=dfcollection[i][0]\n",
    "        tofadata=q['Tofa_Data']\n",
    "        filterdf=q[q.Effort_Data>0]\n",
    "        \n",
    "        # find total effort data for each person not require now\n",
    "        effortdatatotal=filterdf['Effort_Data'].sum()\n",
    "        \n",
    "        # find total average tofa data=total tofa data divide by number of days worked  for each person and append to list\n",
    "        Tofa_Data_total=filterdf['Tofa_Data'].sum()\n",
    "        \n",
    "        totaldf=filterdf['Total']\n",
    "        numberofdaysworked=totaldf.count()\n",
    "        averagetofa=Tofa_Data_total/numberofdaysworked\n",
    "        averagetofadict[i]=averagetofa"
   ]
  },
  {
   "cell_type": "code",
   "execution_count": null,
   "metadata": {},
   "outputs": [],
   "source": []
  },
  {
   "cell_type": "code",
   "execution_count": 390,
   "metadata": {},
   "outputs": [
    {
     "name": "stdout",
     "output_type": "stream",
     "text": [
      "        Average_Tofa\n",
      "Name                \n",
      "pankaj        6.1625\n",
      "rahul         6.1625\n",
      "sanjay        6.1625\n",
      "shiva         6.1625\n"
     ]
    }
   ],
   "source": [
    "averagetofadf=pd.DataFrame.from_dict(averagetofadict,orient='index',columns=['Average_Tofa'])\n",
    "\n",
    "#ranmae the blank index to Name\n",
    "averagetofadf.index.name=\"Name\""
   ]
  },
  {
   "cell_type": "code",
   "execution_count": 401,
   "metadata": {},
   "outputs": [],
   "source": [
    "#creating an excel writer with path nad file name of output file\n",
    "writer=xlwriter('adad.xlsx')"
   ]
  },
  {
   "cell_type": "code",
   "execution_count": 402,
   "metadata": {},
   "outputs": [],
   "source": [
    "#writing dataframe to excel\n",
    "averagetofadf.to_excel(writer,sheet_name=month)"
   ]
  },
  {
   "cell_type": "code",
   "execution_count": 403,
   "metadata": {},
   "outputs": [],
   "source": [
    "#saving excel file and closing the writer\n",
    "writer.save()"
   ]
  },
  {
   "cell_type": "markdown",
   "metadata": {},
   "source": [
    "# #Rough"
   ]
  },
  {
   "cell_type": "code",
   "execution_count": 311,
   "metadata": {},
   "outputs": [],
   "source": [
    "q=dfcollection['pankaj'][0]"
   ]
  },
  {
   "cell_type": "code",
   "execution_count": 350,
   "metadata": {},
   "outputs": [
    {
     "data": {
      "text/plain": [
       "162.49"
      ]
     },
     "execution_count": 350,
     "metadata": {},
     "output_type": "execute_result"
    }
   ],
   "source": [
    "tofadata=q['Tofa_Data']\n",
    "filterdf=q[q.Effort_Data>0]\n",
    "effortdatatotal=filterdf['Effort_Data'].sum()\n",
    "Tofa_Data_total=filterdf['Tofa_Data'].sum()\n",
    "totaldf=filterdf['Total']\n",
    "numberofdaysworked=totaldf.count()\n",
    "totalfloatseries=totaldf.astype('float64')\n",
    "totaltotal=totalfloatseries.sum()\n",
    "\n",
    "#print effortdatatotal,Tofa_Data_total,totaltotal"
   ]
  },
  {
   "cell_type": "code",
   "execution_count": 352,
   "metadata": {},
   "outputs": [
    {
     "data": {
      "text/plain": [
       "20"
      ]
     },
     "execution_count": 352,
     "metadata": {},
     "output_type": "execute_result"
    }
   ],
   "source": [
    "numberofdaysworked=totaldf.count()\n",
    "numberofdaysworked"
   ]
  },
  {
   "cell_type": "code",
   "execution_count": 305,
   "metadata": {},
   "outputs": [
    {
     "data": {
      "text/html": [
       "<div>\n",
       "<style scoped>\n",
       "    .dataframe tbody tr th:only-of-type {\n",
       "        vertical-align: middle;\n",
       "    }\n",
       "\n",
       "    .dataframe tbody tr th {\n",
       "        vertical-align: top;\n",
       "    }\n",
       "\n",
       "    .dataframe thead th {\n",
       "        text-align: right;\n",
       "    }\n",
       "</style>\n",
       "<table border=\"1\" class=\"dataframe\">\n",
       "  <thead>\n",
       "    <tr style=\"text-align: right;\">\n",
       "      <th></th>\n",
       "      <th>Date</th>\n",
       "      <th>Effort_Data</th>\n",
       "      <th>Tofa_Data</th>\n",
       "      <th>Swipe_In</th>\n",
       "      <th>Swipe_Out</th>\n",
       "      <th>Total</th>\n",
       "    </tr>\n",
       "  </thead>\n",
       "  <tbody>\n",
       "    <tr>\n",
       "      <th>0</th>\n",
       "      <td>01-APR-2019</td>\n",
       "      <td>8.28</td>\n",
       "      <td>6.58</td>\n",
       "      <td>15:20:15</td>\n",
       "      <td>23:37:07</td>\n",
       "      <td>8.27</td>\n",
       "    </tr>\n",
       "    <tr>\n",
       "      <th>1</th>\n",
       "      <td>02-APR-2019</td>\n",
       "      <td>10.69</td>\n",
       "      <td>9.09</td>\n",
       "      <td>12:55:37</td>\n",
       "      <td>23:36:46</td>\n",
       "      <td>10.68</td>\n",
       "    </tr>\n",
       "    <tr>\n",
       "      <th>2</th>\n",
       "      <td>03-APR-2019</td>\n",
       "      <td>7.00</td>\n",
       "      <td>5.52</td>\n",
       "      <td>15:14:32</td>\n",
       "      <td>21:45:15</td>\n",
       "      <td>6.50</td>\n",
       "    </tr>\n",
       "    <tr>\n",
       "      <th>3</th>\n",
       "      <td>04-APR-2019</td>\n",
       "      <td>10.00</td>\n",
       "      <td>7.85</td>\n",
       "      <td>13:14:37</td>\n",
       "      <td>22:51:28</td>\n",
       "      <td>9.60</td>\n",
       "    </tr>\n",
       "    <tr>\n",
       "      <th>4</th>\n",
       "      <td>05-APR-2019</td>\n",
       "      <td>7.80</td>\n",
       "      <td>5.69</td>\n",
       "      <td>13:49:58</td>\n",
       "      <td>21:37:51</td>\n",
       "      <td>7.78</td>\n",
       "    </tr>\n",
       "    <tr>\n",
       "      <th>5</th>\n",
       "      <td>06-APR-2019</td>\n",
       "      <td>0.00</td>\n",
       "      <td>0.00</td>\n",
       "      <td>00:00:00</td>\n",
       "      <td>00:00:00</td>\n",
       "      <td>Week Off/Public Holiday</td>\n",
       "    </tr>\n",
       "    <tr>\n",
       "      <th>6</th>\n",
       "      <td>07-APR-2019</td>\n",
       "      <td>0.00</td>\n",
       "      <td>0.00</td>\n",
       "      <td>00:00:00</td>\n",
       "      <td>00:00:00</td>\n",
       "      <td>Week Off/Public Holiday</td>\n",
       "    </tr>\n",
       "    <tr>\n",
       "      <th>7</th>\n",
       "      <td>08-APR-2019</td>\n",
       "      <td>9.43</td>\n",
       "      <td>6.89</td>\n",
       "      <td>13:16:16</td>\n",
       "      <td>22:41:52</td>\n",
       "      <td>9.42</td>\n",
       "    </tr>\n",
       "    <tr>\n",
       "      <th>8</th>\n",
       "      <td>09-APR-2019</td>\n",
       "      <td>8.52</td>\n",
       "      <td>7.03</td>\n",
       "      <td>13:21:22</td>\n",
       "      <td>21:52:47</td>\n",
       "      <td>8.52</td>\n",
       "    </tr>\n",
       "    <tr>\n",
       "      <th>9</th>\n",
       "      <td>10-APR-2019</td>\n",
       "      <td>7.34</td>\n",
       "      <td>6.26</td>\n",
       "      <td>14:51:17</td>\n",
       "      <td>22:11:44</td>\n",
       "      <td>7.33</td>\n",
       "    </tr>\n",
       "    <tr>\n",
       "      <th>10</th>\n",
       "      <td>11-APR-2019</td>\n",
       "      <td>9.43</td>\n",
       "      <td>8.00</td>\n",
       "      <td>13:20:54</td>\n",
       "      <td>22:41:05</td>\n",
       "      <td>9.33</td>\n",
       "    </tr>\n",
       "    <tr>\n",
       "      <th>11</th>\n",
       "      <td>12-APR-2019</td>\n",
       "      <td>8.31</td>\n",
       "      <td>5.95</td>\n",
       "      <td>13:18:52</td>\n",
       "      <td>21:37:44</td>\n",
       "      <td>8.30</td>\n",
       "    </tr>\n",
       "    <tr>\n",
       "      <th>12</th>\n",
       "      <td>13-APR-2019</td>\n",
       "      <td>0.00</td>\n",
       "      <td>0.00</td>\n",
       "      <td>00:00:00</td>\n",
       "      <td>00:00:00</td>\n",
       "      <td>Week Off/Public Holiday</td>\n",
       "    </tr>\n",
       "    <tr>\n",
       "      <th>13</th>\n",
       "      <td>14-APR-2019</td>\n",
       "      <td>0.00</td>\n",
       "      <td>0.00</td>\n",
       "      <td>00:00:00</td>\n",
       "      <td>00:00:00</td>\n",
       "      <td>Week Off/Public Holiday</td>\n",
       "    </tr>\n",
       "    <tr>\n",
       "      <th>14</th>\n",
       "      <td>15-APR-2019</td>\n",
       "      <td>7.18</td>\n",
       "      <td>5.43</td>\n",
       "      <td>14:14:56</td>\n",
       "      <td>21:25:52</td>\n",
       "      <td>7.17</td>\n",
       "    </tr>\n",
       "    <tr>\n",
       "      <th>15</th>\n",
       "      <td>16-APR-2019</td>\n",
       "      <td>8.50</td>\n",
       "      <td>6.80</td>\n",
       "      <td>13:16:13</td>\n",
       "      <td>21:43:38</td>\n",
       "      <td>8.45</td>\n",
       "    </tr>\n",
       "    <tr>\n",
       "      <th>16</th>\n",
       "      <td>17-APR-2019</td>\n",
       "      <td>8.90</td>\n",
       "      <td>6.74</td>\n",
       "      <td>13:18:43</td>\n",
       "      <td>22:08:53</td>\n",
       "      <td>8.83</td>\n",
       "    </tr>\n",
       "    <tr>\n",
       "      <th>17</th>\n",
       "      <td>18-APR-2019</td>\n",
       "      <td>7.90</td>\n",
       "      <td>6.35</td>\n",
       "      <td>14:25:57</td>\n",
       "      <td>22:17:43</td>\n",
       "      <td>7.85</td>\n",
       "    </tr>\n",
       "    <tr>\n",
       "      <th>18</th>\n",
       "      <td>19-APR-2019</td>\n",
       "      <td>7.01</td>\n",
       "      <td>4.70</td>\n",
       "      <td>13:20:50</td>\n",
       "      <td>20:21:19</td>\n",
       "      <td>7.00</td>\n",
       "    </tr>\n",
       "    <tr>\n",
       "      <th>19</th>\n",
       "      <td>20-APR-2019</td>\n",
       "      <td>0.00</td>\n",
       "      <td>0.00</td>\n",
       "      <td>00:00:00</td>\n",
       "      <td>00:00:00</td>\n",
       "      <td>Week Off/Public Holiday</td>\n",
       "    </tr>\n",
       "    <tr>\n",
       "      <th>20</th>\n",
       "      <td>21-APR-2019</td>\n",
       "      <td>0.00</td>\n",
       "      <td>0.00</td>\n",
       "      <td>00:00:00</td>\n",
       "      <td>00:00:00</td>\n",
       "      <td>Week Off/Public Holiday</td>\n",
       "    </tr>\n",
       "    <tr>\n",
       "      <th>21</th>\n",
       "      <td>22-APR-2019</td>\n",
       "      <td>0.00</td>\n",
       "      <td>0.00</td>\n",
       "      <td>00:00:00</td>\n",
       "      <td>00:00:00</td>\n",
       "      <td>Full day Leave</td>\n",
       "    </tr>\n",
       "    <tr>\n",
       "      <th>22</th>\n",
       "      <td>23-APR-2019</td>\n",
       "      <td>0.00</td>\n",
       "      <td>0.00</td>\n",
       "      <td>00:00:00</td>\n",
       "      <td>00:00:00</td>\n",
       "      <td>Full day Leave</td>\n",
       "    </tr>\n",
       "    <tr>\n",
       "      <th>23</th>\n",
       "      <td>24-APR-2019</td>\n",
       "      <td>7.50</td>\n",
       "      <td>3.30</td>\n",
       "      <td>13:00:00</td>\n",
       "      <td>19:51:46</td>\n",
       "      <td>6.85</td>\n",
       "    </tr>\n",
       "    <tr>\n",
       "      <th>24</th>\n",
       "      <td>25-APR-2019</td>\n",
       "      <td>8.68</td>\n",
       "      <td>6.33</td>\n",
       "      <td>13:06:24</td>\n",
       "      <td>21:47:02</td>\n",
       "      <td>8.67</td>\n",
       "    </tr>\n",
       "    <tr>\n",
       "      <th>25</th>\n",
       "      <td>26-APR-2019</td>\n",
       "      <td>7.54</td>\n",
       "      <td>6.01</td>\n",
       "      <td>13:11:34</td>\n",
       "      <td>20:44:04</td>\n",
       "      <td>7.53</td>\n",
       "    </tr>\n",
       "    <tr>\n",
       "      <th>26</th>\n",
       "      <td>27-APR-2019</td>\n",
       "      <td>0.00</td>\n",
       "      <td>0.00</td>\n",
       "      <td>00:00:00</td>\n",
       "      <td>00:00:00</td>\n",
       "      <td>Week Off/Public Holiday</td>\n",
       "    </tr>\n",
       "    <tr>\n",
       "      <th>27</th>\n",
       "      <td>28-APR-2019</td>\n",
       "      <td>0.00</td>\n",
       "      <td>0.00</td>\n",
       "      <td>00:00:00</td>\n",
       "      <td>00:00:00</td>\n",
       "      <td>Week Off/Public Holiday</td>\n",
       "    </tr>\n",
       "    <tr>\n",
       "      <th>28</th>\n",
       "      <td>29-APR-2019</td>\n",
       "      <td>6.48</td>\n",
       "      <td>4.44</td>\n",
       "      <td>13:32:52</td>\n",
       "      <td>20:01:34</td>\n",
       "      <td>6.47</td>\n",
       "    </tr>\n",
       "    <tr>\n",
       "      <th>29</th>\n",
       "      <td>30-APR-2019</td>\n",
       "      <td>6.00</td>\n",
       "      <td>4.29</td>\n",
       "      <td>14:27:38</td>\n",
       "      <td>20:08:52</td>\n",
       "      <td>5.68</td>\n",
       "    </tr>\n",
       "  </tbody>\n",
       "</table>\n",
       "</div>"
      ],
      "text/plain": [
       "           Date  Effort_Data  Tofa_Data  Swipe_In Swipe_Out  \\\n",
       "0   01-APR-2019         8.28       6.58  15:20:15  23:37:07   \n",
       "1   02-APR-2019        10.69       9.09  12:55:37  23:36:46   \n",
       "2   03-APR-2019         7.00       5.52  15:14:32  21:45:15   \n",
       "3   04-APR-2019        10.00       7.85  13:14:37  22:51:28   \n",
       "4   05-APR-2019         7.80       5.69  13:49:58  21:37:51   \n",
       "5   06-APR-2019         0.00       0.00  00:00:00  00:00:00   \n",
       "6   07-APR-2019         0.00       0.00  00:00:00  00:00:00   \n",
       "7   08-APR-2019         9.43       6.89  13:16:16  22:41:52   \n",
       "8   09-APR-2019         8.52       7.03  13:21:22  21:52:47   \n",
       "9   10-APR-2019         7.34       6.26  14:51:17  22:11:44   \n",
       "10  11-APR-2019         9.43       8.00  13:20:54  22:41:05   \n",
       "11  12-APR-2019         8.31       5.95  13:18:52  21:37:44   \n",
       "12  13-APR-2019         0.00       0.00  00:00:00  00:00:00   \n",
       "13  14-APR-2019         0.00       0.00  00:00:00  00:00:00   \n",
       "14  15-APR-2019         7.18       5.43  14:14:56  21:25:52   \n",
       "15  16-APR-2019         8.50       6.80  13:16:13  21:43:38   \n",
       "16  17-APR-2019         8.90       6.74  13:18:43  22:08:53   \n",
       "17  18-APR-2019         7.90       6.35  14:25:57  22:17:43   \n",
       "18  19-APR-2019         7.01       4.70  13:20:50  20:21:19   \n",
       "19  20-APR-2019         0.00       0.00  00:00:00  00:00:00   \n",
       "20  21-APR-2019         0.00       0.00  00:00:00  00:00:00   \n",
       "21  22-APR-2019         0.00       0.00  00:00:00  00:00:00   \n",
       "22  23-APR-2019         0.00       0.00  00:00:00  00:00:00   \n",
       "23  24-APR-2019         7.50       3.30  13:00:00  19:51:46   \n",
       "24  25-APR-2019         8.68       6.33  13:06:24  21:47:02   \n",
       "25  26-APR-2019         7.54       6.01  13:11:34  20:44:04   \n",
       "26  27-APR-2019         0.00       0.00  00:00:00  00:00:00   \n",
       "27  28-APR-2019         0.00       0.00  00:00:00  00:00:00   \n",
       "28  29-APR-2019         6.48       4.44  13:32:52  20:01:34   \n",
       "29  30-APR-2019         6.00       4.29  14:27:38  20:08:52   \n",
       "\n",
       "                      Total  \n",
       "0                      8.27  \n",
       "1                     10.68  \n",
       "2                      6.50  \n",
       "3                      9.60  \n",
       "4                      7.78  \n",
       "5   Week Off/Public Holiday  \n",
       "6   Week Off/Public Holiday  \n",
       "7                      9.42  \n",
       "8                      8.52  \n",
       "9                      7.33  \n",
       "10                     9.33  \n",
       "11                     8.30  \n",
       "12  Week Off/Public Holiday  \n",
       "13  Week Off/Public Holiday  \n",
       "14                     7.17  \n",
       "15                     8.45  \n",
       "16                     8.83  \n",
       "17                     7.85  \n",
       "18                     7.00  \n",
       "19  Week Off/Public Holiday  \n",
       "20  Week Off/Public Holiday  \n",
       "21           Full day Leave  \n",
       "22           Full day Leave  \n",
       "23                     6.85  \n",
       "24                     8.67  \n",
       "25                     7.53  \n",
       "26  Week Off/Public Holiday  \n",
       "27  Week Off/Public Holiday  \n",
       "28                     6.47  \n",
       "29                     5.68  "
      ]
     },
     "execution_count": 305,
     "metadata": {},
     "output_type": "execute_result"
    }
   ],
   "source": [
    "ddff"
   ]
  },
  {
   "cell_type": "code",
   "execution_count": null,
   "metadata": {},
   "outputs": [],
   "source": []
  }
 ],
 "metadata": {
  "kernelspec": {
   "display_name": "Python 3",
   "language": "",
   "name": "python3"
  },
  "language_info": {
   "codemirror_mode": {
    "name": "ipython",
    "version": 3
   },
   "file_extension": ".py",
   "mimetype": "text/x-python",
   "name": "python",
   "nbconvert_exporter": "python",
   "pygments_lexer": "ipython3",
   "version": "3.7.0"
  }
 },
 "nbformat": 4,
 "nbformat_minor": 2
}
